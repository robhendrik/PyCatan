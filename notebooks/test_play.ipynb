{
 "cells": [
  {
   "cell_type": "code",
   "execution_count": 40,
   "id": "2e94c7d1",
   "metadata": {},
   "outputs": [],
   "source": [
    "import os\n",
    "train_games = 162\n",
    "n_jobs = 2"
   ]
  },
  {
   "cell_type": "code",
   "execution_count": 50,
   "id": "4a33e9e2",
   "metadata": {},
   "outputs": [
    {
     "name": "stdout",
     "output_type": "stream",
     "text": [
      "(32, 4, 8, 1)\n",
      "Assignments (start, stop) per core: [[(0, 8)], [(8, 16)], [(16, 24)], [(0, 8)]]\n"
     ]
    }
   ],
   "source": [
    "def find_optimal_assignment(train_games, n_jobs):\n",
    "    if train_games <= 8:\n",
    "        return [[(0,train_games)]]\n",
    "    total_games = []\n",
    "    for iterations in range(1, 1 + max(2, train_games // 8)):\n",
    "        for nc in [1,2,4,8,16]:\n",
    "            if nc > n_jobs:\n",
    "                continue\n",
    "            for games in [8,12,24]:\n",
    "                if nc*games*iterations >= train_games:\n",
    "                    total_games.append((nc*games*iterations,nc,games,iterations))\n",
    "\n",
    "    total_games = sorted(total_games, key=lambda x: x[2]*x[3])\n",
    "    solution = total_games[0]\n",
    "    print(solution)\n",
    "    start, stop = 0, solution[2]\n",
    "    assignments = [[] for _ in range(solution[1])]\n",
    "    core_idx = 0\n",
    "    while stop <= solution[0]:\n",
    "        assignments[core_idx].append((start%24, start%24 + (stop-start)))\n",
    "        start = stop\n",
    "        stop += solution[2]\n",
    "        core_idx = (core_idx + 1) % solution[1]\n",
    "    return assignments\n",
    "print('Assignments (start, stop) per core:', find_optimal_assignment(24, 4))"
   ]
  }
 ],
 "metadata": {
  "kernelspec": {
   "display_name": "env_pycatan",
   "language": "python",
   "name": "python3"
  },
  "language_info": {
   "codemirror_mode": {
    "name": "ipython",
    "version": 3
   },
   "file_extension": ".py",
   "mimetype": "text/x-python",
   "name": "python",
   "nbconvert_exporter": "python",
   "pygments_lexer": "ipython3",
   "version": "3.12.6"
  }
 },
 "nbformat": 4,
 "nbformat_minor": 5
}
